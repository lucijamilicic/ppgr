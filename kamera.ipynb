{
 "cells": [
  {
   "cell_type": "code",
   "execution_count": 1,
   "id": "8933bfe1",
   "metadata": {},
   "outputs": [],
   "source": [
    "import numpy as np\n",
    "from numpy import linalg as la\n",
    "np.set_printoptions(suppress = True)"
   ]
  },
  {
   "cell_type": "markdown",
   "id": "ad1833eb",
   "metadata": {},
   "source": [
    "**Parametri kamere**"
   ]
  },
  {
   "cell_type": "code",
   "execution_count": 2,
   "id": "9e30b744",
   "metadata": {},
   "outputs": [],
   "source": [
    "def parametriKamere(T):\n",
    "    \n",
    "    (i, j) = np.shape(T)\n",
    "    if i != 3 or j != 4:\n",
    "        print(\"Matrica kamere mora biti dimenzije 3x4\")\n",
    "        return\n",
    "    \n",
    "    T0 = T[:, :-1]\n",
    "    \n",
    "    [Q, R] = la.qr(la.inv(T0))\n",
    "    \n",
    "    for i in range(3):\n",
    "        if R[i, i] < 0:\n",
    "            R[i, :] = -R[i, :]\n",
    "            Q[:, i] = -Q[:, i]\n",
    "    \n",
    "    \n",
    "    K = la.inv(R)\n",
    "    K = K/K[2][2]\n",
    "    A = la.inv(Q)\n",
    "    \n",
    "    C = T[:, -1]\n",
    "    C = -la.inv(T0).dot(C)\n",
    "    \n",
    "    return K, A, C\n",
    "    \n",
    "    "
   ]
  },
  {
   "cell_type": "code",
   "execution_count": 3,
   "id": "d15cb145",
   "metadata": {},
   "outputs": [
    {
     "name": "stdout",
     "output_type": "stream",
     "text": [
      "Unesite vrednost n: 9\n"
     ]
    }
   ],
   "source": [
    "n = int(input(\"Unesite vrednost n: \"))\n",
    "T = np.array([[5,-1-2*n, 3, 18-3*n],\n",
    "                 [0,-1,5,21],\n",
    "                 [0,-1,0,1]\n",
    "                ])"
   ]
  },
  {
   "cell_type": "code",
   "execution_count": 4,
   "id": "d8e7905d",
   "metadata": {},
   "outputs": [
    {
     "name": "stdout",
     "output_type": "stream",
     "text": [
      "[[ 5.  3. 19.]\n",
      " [ 0.  5.  1.]\n",
      " [ 0.  0.  1.]] \n",
      "\n",
      " [[ 1.  0.  0.]\n",
      " [ 0.  0.  1.]\n",
      " [-0. -1. -0.]] \n",
      "\n",
      " [ 8.  1. -4.]\n"
     ]
    }
   ],
   "source": [
    "[K, A, C] = parametriKamere(T)\n",
    "print(K, '\\n\\n', A, '\\n\\n', C)"
   ]
  },
  {
   "cell_type": "code",
   "execution_count": null,
   "id": "23cb56e0",
   "metadata": {},
   "outputs": [],
   "source": []
  },
  {
   "cell_type": "markdown",
   "id": "56dcf23c",
   "metadata": {},
   "source": [
    "**CameraDLP**"
   ]
  },
  {
   "cell_type": "code",
   "execution_count": 5,
   "id": "3c02f57f",
   "metadata": {},
   "outputs": [],
   "source": [
    "def cameraEquations(o, p):\n",
    "    m = np.matrix([[0, 0, 0, 0, -p[2]*o[0], -p[2]*o[1], -p[2]*o[2],  -p[2]*o[3], p[1]*o[0], p[1]*o[1], p[1]*o[2],p[1]*o[3]],\n",
    "                   [p[2]*o[0], p[2]*o[1], p[2]*o[2], p[2]*o[3], 0, 0, 0, 0, -p[0]*o[0], -p[0]*o[1], -p[0]*o[2], -p[0]*o[3]]])\n",
    "    return m"
   ]
  },
  {
   "cell_type": "code",
   "execution_count": 6,
   "id": "34325be6",
   "metadata": {},
   "outputs": [],
   "source": [
    "def cameraDLP(originali, projekcije):\n",
    "    \n",
    "    matrica = cameraEquations(originali[0], projekcije[0])\n",
    "    \n",
    "    for i in range(1, 6):\n",
    "        m = cameraEquations(originali[i], projekcije[i])\n",
    "        matrica = np.concatenate((matrica, m), axis=0)\n",
    "            \n",
    "    U, D, Vt = la.svd(matrica)\n",
    "    \n",
    "    #matrica P ce biti poslednja kolona matrice V sto je ustvari poslednja vrsta matrica Vt\n",
    "    #skaliramo tako da element na poziciji (0,0) bude 1\n",
    "    P = Vt[-1] / Vt[-1, 0]\n",
    "    P = P.round(4)\n",
    "    P = P.reshape(3, 4)\n",
    "   \n",
    "    return P"
   ]
  },
  {
   "cell_type": "code",
   "execution_count": 7,
   "id": "612554e1",
   "metadata": {},
   "outputs": [
    {
     "name": "stdout",
     "output_type": "stream",
     "text": [
      "Unesite vrednost n: 9\n",
      "[[    1.        -4.0266    11.446  -2932.2824]\n",
      " [    5.9927    -3.6374    10.5579 -4908.2022]\n",
      " [    0.0108    -0.0053     0.0248   -11.9482]]\n"
     ]
    }
   ],
   "source": [
    "n = int(input(\"Unesite vrednost n: \"))\n",
    "\n",
    "M1 = np.array([460, 280, 250, 1])\n",
    "M2 = np.array([50, 380, 350, 1])\n",
    "M3 = np.array([470, 500, 100, 1])\n",
    "M4 = np.array([380, 630, 50 * n, 1])\n",
    "M5 = np.array([30 * n, 290, 0, 1])\n",
    "M6 = np.array([580, 0, 130, 1])\n",
    "originali = np.array([M1, M2, M3, M4, M5, M6])\n",
    "\n",
    "M1p = np.array([288, 251, 1])\n",
    "M2p = np.array([79, 510, 1])\n",
    "M3p = np.array([470, 440, 1])\n",
    "M4p = np.array([520, 590, 1])\n",
    "M5p = np.array([365, 388, 1])\n",
    "M6p = np.array([365, 20, 1])\n",
    "projekcije = np.array([M1p, M2p, M3p, M4p, M5p, M6p])\n",
    "\n",
    "P = cameraDLP(originali, projekcije)\n",
    "print(P)"
   ]
  },
  {
   "cell_type": "code",
   "execution_count": null,
   "id": "9b0a2113",
   "metadata": {},
   "outputs": [],
   "source": []
  },
  {
   "cell_type": "code",
   "execution_count": null,
   "id": "40c6f164",
   "metadata": {},
   "outputs": [],
   "source": []
  }
 ],
 "metadata": {
  "kernelspec": {
   "display_name": "Python 3",
   "language": "python",
   "name": "python3"
  },
  "language_info": {
   "codemirror_mode": {
    "name": "ipython",
    "version": 3
   },
   "file_extension": ".py",
   "mimetype": "text/x-python",
   "name": "python",
   "nbconvert_exporter": "python",
   "pygments_lexer": "ipython3",
   "version": "3.6.9"
  }
 },
 "nbformat": 4,
 "nbformat_minor": 5
}
