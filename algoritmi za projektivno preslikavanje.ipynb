{
 "cells": [
  {
   "cell_type": "markdown",
   "id": "b4dd26ca",
   "metadata": {},
   "source": [
    "Naivni algoritam:"
   ]
  },
  {
   "cell_type": "code",
   "execution_count": 1,
   "id": "3e895e26",
   "metadata": {},
   "outputs": [],
   "source": [
    "import numpy as np\n",
    "from numpy import linalg as la "
   ]
  },
  {
   "cell_type": "code",
   "execution_count": 2,
   "id": "a39b4a5f",
   "metadata": {},
   "outputs": [],
   "source": [
    "def koeficijenti(matrica):\n",
    "#   resenje sistema oblika: A * x = b, dakle x = A^-1 * b\n",
    "    A = matrica[0:3]\n",
    "    A = np.transpose(A)\n",
    "    b = matrica[3]\n",
    "    \n",
    "    A_inv = la.inv(A)\n",
    "    x = np.matmul(A_inv, b)\n",
    "    \n",
    "    return x\n",
    "    "
   ]
  },
  {
   "cell_type": "code",
   "execution_count": 3,
   "id": "3886e68c",
   "metadata": {},
   "outputs": [],
   "source": [
    "def naivni_algoritam(original, slika):\n",
    "\n",
    "    p1 = koeficijenti(original)\n",
    "    p2 = koeficijenti(slika)\n",
    "\n",
    "# p1 je matrica sa kolonama alfa * A, beta * B i gama * C\n",
    "    p1 = [[p1[0] * x for x in original[0]],\n",
    "          [p1[1] * x for x in original[1]],\n",
    "          [p1[2] * x for x in original[2]]\n",
    "        ]\n",
    "    p1 = np.transpose(p1)\n",
    "    \n",
    "# p2 je matrica sa kolonama alfa' * A', beta' * B' i gama' * C'\n",
    "    p2 = [[p2[0] * x for x in slika[0]],\n",
    "          [p2[1] * x for x in slika[1]],\n",
    "          [p2[2] * x for x in slika[2]]\n",
    "        ]\n",
    "\n",
    "    p2 = np.transpose(p2)\n",
    "\n",
    "# trazena matrica preslikavanja je p = p2*p1^-1\n",
    "    p = np.matmul(p2,la.inv(p1))\n",
    "\n",
    "    return p"
   ]
  },
  {
   "cell_type": "code",
   "execution_count": 4,
   "id": "5080b385",
   "metadata": {},
   "outputs": [
    {
     "name": "stdout",
     "output_type": "stream",
     "text": [
      "Matrica projektivnog preslikavanja dobijena naivnim algoritmom:\n",
      "\n",
      "[[ 2.  0.  0.]\n",
      " [ 0.  2. -1.]\n",
      " [ 0. -1.  2.]]\n"
     ]
    }
   ],
   "source": [
    "originali = [[-3, -1, 1],\n",
    "             [3, -1, 1], \n",
    "             [1, 1, 1], \n",
    "             [-1, 1, 1]\n",
    "            ]\n",
    "\n",
    "slike = [[-2, -1, 1],\n",
    "         [2, -1, 1],\n",
    "         [2, 1, 1], \n",
    "         [-2, 1, 1]\n",
    "        ]\n",
    "\n",
    "P1 = naivni_algoritam(originali, slike)\n",
    "P1 = np.round(P1, decimals=5)\n",
    "print(\"Matrica projektivnog preslikavanja dobijena naivnim algoritmom:\\n\")\n",
    "print(P1)"
   ]
  },
  {
   "cell_type": "code",
   "execution_count": null,
   "id": "047bd117",
   "metadata": {},
   "outputs": [],
   "source": []
  },
  {
   "cell_type": "markdown",
   "id": "ccfac21e",
   "metadata": {},
   "source": [
    "DLT algoritam:"
   ]
  },
  {
   "cell_type": "code",
   "execution_count": 5,
   "id": "f56b7e01",
   "metadata": {},
   "outputs": [],
   "source": [
    "def matrica_korespodencije(o, s):\n",
    "    m = np.matrix([[0, 0, 0, -s[2]*o[0], -s[2]*o[1], -s[2]*o[2], s[1]*o[0], s[1]*o[1], s[1]*o[2]],\n",
    "     [s[2]*o[0], s[2]*o[1], s[2]*o[2], 0, 0, 0, -s[0]*o[0], -s[0]*o[1], -s[0]*o[2]]])\n",
    "\n",
    "    return m"
   ]
  },
  {
   "cell_type": "code",
   "execution_count": 6,
   "id": "bef0b505",
   "metadata": {},
   "outputs": [],
   "source": [
    "\n",
    "def dlt_algoritam(n, originali, slike):\n",
    "    \n",
    "    matrica = matrica_korespodencije(originali[0], slike[0])\n",
    "    \n",
    "    for i in range(1, n):\n",
    "        m = matrica_korespodencije(originali[i], slike[i])\n",
    "        matrica = np.concatenate((matrica, m), axis = 0)\n",
    "    \n",
    "    U, D, Vt = la.svd(matrica, full_matrices=True)\n",
    "    \n",
    "# poslednja kolona matrice V, tj. poslednja vrsta matrice Vt\n",
    "    P = Vt[-1]\n",
    "    P = P.reshape(3,3)\n",
    "\n",
    "    return P"
   ]
  },
  {
   "cell_type": "code",
   "execution_count": 7,
   "id": "1939c609",
   "metadata": {},
   "outputs": [
    {
     "name": "stdout",
     "output_type": "stream",
     "text": [
      "Matrica projektivnog preslikavanja dobijena dlt algoritmom\n",
      "[[ 0.53452248  0.         -0.        ]\n",
      " [ 0.          0.53452248 -0.26726124]\n",
      " [-0.         -0.26726124  0.53452248]] \n",
      "\n"
     ]
    }
   ],
   "source": [
    "originali = [[-3, -1, 1],\n",
    "             [3, -1, 1], \n",
    "             [1, 1, 1], \n",
    "             [-1, 1, 1]\n",
    "            ]\n",
    "\n",
    "slike = [[-2, -1, 1],\n",
    "         [2, -1, 1],\n",
    "         [2, 1, 1], \n",
    "         [-2, 1, 1]\n",
    "        ]\n",
    "\n",
    "#Pokrecemo DLT algoritam za 6 tacaka    \n",
    "P2 = dlt_algoritam(4, originali, slike)\n",
    "P2 = np.round(P2,decimals=10)\n",
    "\n",
    "print(\"Matrica projektivnog preslikavanja dobijena dlt algoritmom\")\n",
    "print(P2, \"\\n\")"
   ]
  },
  {
   "cell_type": "code",
   "execution_count": 8,
   "id": "a2d4fce3",
   "metadata": {
    "scrolled": true
   },
   "outputs": [
    {
     "name": "stdout",
     "output_type": "stream",
     "text": [
      "[[ 2.  0. -0.]\n",
      " [ 0.  2. -1.]\n",
      " [-0. -1.  2.]]\n"
     ]
    }
   ],
   "source": [
    "print((P2 / P2[0][0]) * P1[0][0])"
   ]
  },
  {
   "cell_type": "code",
   "execution_count": null,
   "id": "24b823aa",
   "metadata": {},
   "outputs": [],
   "source": []
  },
  {
   "cell_type": "code",
   "execution_count": null,
   "id": "ceb43847",
   "metadata": {},
   "outputs": [],
   "source": []
  },
  {
   "cell_type": "markdown",
   "id": "95edc091",
   "metadata": {},
   "source": [
    "Normalizovani DLT algoritam:"
   ]
  },
  {
   "cell_type": "code",
   "execution_count": 9,
   "id": "fec1a086",
   "metadata": {},
   "outputs": [],
   "source": [
    "def afina(tacka):\n",
    "    return [tacka[0]/tacka[2], tacka[1]/tacka[2]]\n",
    "\n",
    "def homogena(tacka):\n",
    "    return [tacka[0], tacka[1], 1]\n"
   ]
  },
  {
   "cell_type": "code",
   "execution_count": 10,
   "id": "8c00b8ba",
   "metadata": {},
   "outputs": [],
   "source": [
    "def normalizacija(n, tacke):\n",
    "    afine_tacke = []\n",
    "\n",
    "# teziste tacaka: \n",
    "\n",
    "    cx = 0\n",
    "    cy = 0\n",
    "    \n",
    "    for i in range(n):\n",
    "        afine_tacke.append(afina(tacke[i]))\n",
    "        cx += afine_tacke[i][0]\n",
    "        cy += afine_tacke[i][1]\n",
    "    \n",
    "    cx, cy = cx/n, cy/n\n",
    "    \n",
    "# matrica translacije tezista u koordinatni pocetak:\n",
    "    G = [[1,0,-cx], [0,1,-cy], [0,0,1]]\n",
    "\n",
    "    for i in range(n):\n",
    "        afine_tacke[i] = np.matmul(G, homogena(afine_tacke[i]))\n",
    "\n",
    "# skaliranje tacaka tako da prosecno rastojanje od koordinatnog pocetka bude sqrt(2)\n",
    "    dist = 0\n",
    "    for i in range(n):\n",
    "        dist += np.sqrt(np.square(afine_tacke[i][0]) + np.square(afine_tacke[i][1]))\n",
    "\n",
    "    dist = dist/n\n",
    "\n",
    "    S = [[np.sqrt(2)/dist,0, 0], [0,np.sqrt(2)/dist,0], [0,0,1]]\n",
    "\n",
    "    for i in range(n):\n",
    "        afine_tacke[i] = np.matmul(S, homogena(afine_tacke[i]))\n",
    "\n",
    "\n",
    "# matrica normalizacije: T = SG    \n",
    "    T = np.matmul(S,G)\n",
    "\n",
    "    return T"
   ]
  },
  {
   "cell_type": "code",
   "execution_count": 11,
   "id": "123810ec",
   "metadata": {},
   "outputs": [],
   "source": [
    "def primeni(tacke, matrica):\n",
    "    n = len(tacke)\n",
    "    nove_t = []\n",
    "    for i in range(n):\n",
    "         nove_t.append(np.matmul(matrica, tacke[i]))\n",
    "    return nove_t"
   ]
  },
  {
   "cell_type": "code",
   "execution_count": 12,
   "id": "63c0098c",
   "metadata": {},
   "outputs": [],
   "source": [
    "def normalizovani_dlt(n,originali, slike):\n",
    "\n",
    "# matrice normalizacije:\n",
    "    originali_mat = normalizacija(n, originali)\n",
    "    slike_mat = normalizacija(n, slike)\n",
    "\n",
    "# normalizovane tacke:\n",
    "    originali_n = primeni(originali, originali_mat)\n",
    "    slike_n = primeni(slike, slike_mat)\n",
    "\n",
    "# matrica P' se dobija primenom obicnog DLT algoritma na normalizovane tacke\n",
    "    matrica_p = dlt_algoritam(n, originali_n, slike_n)\n",
    "\n",
    "# trazena matrica je T'^-1 * P * T  \n",
    "    matrica = np.matmul(matrica_p, originali_mat)\n",
    "    matrica = np.matmul(la.inv(slike_mat), matrica)\n",
    "\n",
    "    return np.round(matrica, decimals=10)"
   ]
  },
  {
   "cell_type": "code",
   "execution_count": 13,
   "id": "fb947321",
   "metadata": {},
   "outputs": [
    {
     "name": "stdout",
     "output_type": "stream",
     "text": [
      "Matrica projektivnog preslikavanja dobijena normalizovanim dlt algoritmom\n",
      "\n",
      "[[ 0.50971765 -0.         -0.        ]\n",
      " [ 0.          0.50971765 -0.25485883]\n",
      " [ 0.         -0.25485883  0.50971765]] \n",
      "\n"
     ]
    }
   ],
   "source": [
    "originali = [[-3, -1, 1],\n",
    "             [3, -1, 1], \n",
    "             [1, 1, 1], \n",
    "             [-1, 1, 1]\n",
    "            ]\n",
    "\n",
    "slike = [[-2, -1, 1],\n",
    "         [2, -1, 1],\n",
    "         [2, 1, 1], \n",
    "         [-2, 1, 1]\n",
    "        ]\n",
    "\n",
    "matrica = normalizovani_dlt(4, originali, slike)\n",
    "print(\"Matrica projektivnog preslikavanja dobijena normalizovanim dlt algoritmom\\n\")\n",
    "print(matrica, \"\\n\")"
   ]
  },
  {
   "cell_type": "code",
   "execution_count": null,
   "id": "0a032565",
   "metadata": {},
   "outputs": [],
   "source": []
  },
  {
   "cell_type": "markdown",
   "id": "034d4a86",
   "metadata": {},
   "source": [
    "Testiranje na sopstvenim primerima:"
   ]
  },
  {
   "cell_type": "code",
   "execution_count": 14,
   "id": "3bfb07d3",
   "metadata": {},
   "outputs": [],
   "source": [
    "originali = [[0, 0, 1],\n",
    "             [1, 2, 1], \n",
    "             [4, 2, 1], \n",
    "             [5, 0, 1]\n",
    "            ]\n",
    "\n",
    "slike = [[0, 1, 1],\n",
    "         [0, 3, 1],\n",
    "         [4, 3, 1], \n",
    "         [4, 1, 1]\n",
    "        ]\n"
   ]
  },
  {
   "cell_type": "code",
   "execution_count": 15,
   "id": "0166e73c",
   "metadata": {},
   "outputs": [
    {
     "name": "stdout",
     "output_type": "stream",
     "text": [
      "[[ 0.8 -0.4  0. ]\n",
      " [ 0.   0.4  1. ]\n",
      " [ 0.  -0.2  1. ]]\n"
     ]
    }
   ],
   "source": [
    "# matrica dobijena naivnim algoritmom\n",
    "M1 = naivni_algoritam(originali, slike)\n",
    "M1 = np.round(M1, decimals = 5)\n",
    "print(M1)"
   ]
  },
  {
   "cell_type": "code",
   "execution_count": 16,
   "id": "de24cb58",
   "metadata": {},
   "outputs": [
    {
     "name": "stdout",
     "output_type": "stream",
     "text": [
      "[[ 0.46188 -0.23094 -0.     ]\n",
      " [ 0.       0.23094  0.57735]\n",
      " [ 0.      -0.11547  0.57735]]\n"
     ]
    }
   ],
   "source": [
    "# matrica dobijena dlt algoritmom\n",
    "M2 = dlt_algoritam(4, originali, slike)\n",
    "M2 = np.round(M2, decimals = 5)\n",
    "print(M2)"
   ]
  },
  {
   "cell_type": "code",
   "execution_count": 17,
   "id": "646182e8",
   "metadata": {},
   "outputs": [
    {
     "data": {
      "text/plain": [
       "array([[ 0.8, -0.4, -0. ],\n",
       "       [ 0. ,  0.4,  1. ],\n",
       "       [ 0. , -0.2,  1. ]])"
      ]
     },
     "execution_count": 17,
     "metadata": {},
     "output_type": "execute_result"
    }
   ],
   "source": [
    "# provera da li su matrice dobijene naivnim i dlt algoritmom proporcionalne\n",
    "(M2 / M2[0][0])  * M1[0][0]"
   ]
  },
  {
   "cell_type": "code",
   "execution_count": 18,
   "id": "9d971e1e",
   "metadata": {},
   "outputs": [
    {
     "name": "stdout",
     "output_type": "stream",
     "text": [
      "[[ 0.55869 -0.27935  0.     ]\n",
      " [ 0.       0.27935  0.69837]\n",
      " [ 0.      -0.13967  0.69837]]\n"
     ]
    }
   ],
   "source": [
    "# matrica dobijena normalizovanim dlt algoritmom\n",
    "M3 = normalizovani_dlt(4, originali, slike)\n",
    "M3 = np.round(M3, decimals = 5)\n",
    "print(M3)"
   ]
  },
  {
   "cell_type": "code",
   "execution_count": 19,
   "id": "7b40fdab",
   "metadata": {},
   "outputs": [
    {
     "data": {
      "text/plain": [
       "array([[ 0.46188   , -0.23094413,  0.        ],\n",
       "       [ 0.        ,  0.23094413,  0.5773562 ],\n",
       "       [ 0.        , -0.11546793,  0.5773562 ]])"
      ]
     },
     "execution_count": 19,
     "metadata": {},
     "output_type": "execute_result"
    }
   ],
   "source": [
    "# poredjenje matrica dobijenih klasicnim i normalizovanim dlt algoritmom\n",
    "# matrice se poklapaju na prvih 5 decimala (na toliko decimala je i izvrseno zaokruzivanje)\n",
    "(M3 / M3[0][0])  * M2[0][0]"
   ]
  },
  {
   "cell_type": "code",
   "execution_count": 20,
   "id": "9dd0dca2",
   "metadata": {},
   "outputs": [
    {
     "name": "stdout",
     "output_type": "stream",
     "text": [
      "[2.5, 0, 1] [2. 1. 1.] [2.5, 2, 1] [2. 3. 1.]\n"
     ]
    }
   ],
   "source": [
    "# dodavanje novih tacaka za testiranje dlt algoritma za vise od 4 korespodencije\n",
    "# odabrane tacke su sredista osnovica trapeza, njihove slike su dobijene naivnim algoritmom\n",
    "t1 = [2.5, 0, 1]\n",
    "t1p = np.matmul(M1, np.transpose(t1))\n",
    "t1p = np.transpose(t1p / t1p[2])\n",
    "\n",
    "t2 = [2.5, 2, 1]\n",
    "t2p = np.matmul(M1, np.transpose(t2))\n",
    "t2p = np.transpose(t2p / t2p[2])\n",
    "\n",
    "print(t1, t1p, t2, t2p)\n",
    "\n",
    "originali.append(t1)\n",
    "originali.append(t2)\n",
    "slike.append(t1p)\n",
    "slike.append(t2p)"
   ]
  },
  {
   "cell_type": "code",
   "execution_count": 21,
   "id": "2b428176",
   "metadata": {},
   "outputs": [
    {
     "data": {
      "text/plain": [
       "[[0, 0, 1], [1, 2, 1], [4, 2, 1], [5, 0, 1], [2.5, 0, 1], [2.5, 2, 1]]"
      ]
     },
     "execution_count": 21,
     "metadata": {},
     "output_type": "execute_result"
    }
   ],
   "source": [
    "originali"
   ]
  },
  {
   "cell_type": "code",
   "execution_count": 22,
   "id": "53897bc3",
   "metadata": {},
   "outputs": [
    {
     "data": {
      "text/plain": [
       "[[0, 1, 1],\n",
       " [0, 3, 1],\n",
       " [4, 3, 1],\n",
       " [4, 1, 1],\n",
       " array([2., 1., 1.]),\n",
       " array([2., 3., 1.])]"
      ]
     },
     "execution_count": 22,
     "metadata": {},
     "output_type": "execute_result"
    }
   ],
   "source": [
    "slike"
   ]
  },
  {
   "cell_type": "code",
   "execution_count": 23,
   "id": "440ceede",
   "metadata": {},
   "outputs": [
    {
     "name": "stdout",
     "output_type": "stream",
     "text": [
      "[[-0.46188  0.23094 -0.     ]\n",
      " [ 0.      -0.23094 -0.57735]\n",
      " [ 0.       0.11547 -0.57735]]\n"
     ]
    }
   ],
   "source": [
    "# matrica dobijena dlt algoritmom za 6 korespodencija\n",
    "M4 = dlt_algoritam(6, originali, slike)\n",
    "M4 = np.round(M4, decimals = 5)\n",
    "print(M4)"
   ]
  },
  {
   "cell_type": "code",
   "execution_count": 24,
   "id": "07247e01",
   "metadata": {},
   "outputs": [
    {
     "data": {
      "text/plain": [
       "array([[ 0.8, -0.4,  0. ],\n",
       "       [-0. ,  0.4,  1. ],\n",
       "       [-0. , -0.2,  1. ]])"
      ]
     },
     "execution_count": 24,
     "metadata": {},
     "output_type": "execute_result"
    }
   ],
   "source": [
    "# ova matrica odredjuje isto preslikavanje kao i matrica dobijena naivnim algoritmom\n",
    "(M4 / M4[0][0])  * M1[0][0]"
   ]
  },
  {
   "cell_type": "code",
   "execution_count": 25,
   "id": "97f0ac2e",
   "metadata": {},
   "outputs": [
    {
     "name": "stdout",
     "output_type": "stream",
     "text": [
      "[[ 0.56259 -0.2813   0.     ]\n",
      " [-0.       0.2813   0.70324]\n",
      " [-0.      -0.14065  0.70324]]\n"
     ]
    }
   ],
   "source": [
    "# matrica dobijena normalizovanim dlt algoritmom za 6 korespodenciija\n",
    "M5 = normalizovani_dlt(6, originali, slike)\n",
    "M5 = np.round(M5, decimals = 5)\n",
    "print(M5)"
   ]
  },
  {
   "cell_type": "code",
   "execution_count": 26,
   "id": "8619c765",
   "metadata": {},
   "outputs": [
    {
     "data": {
      "text/plain": [
       "array([[-0.46188   ,  0.2309441 , -0.        ],\n",
       "       [ 0.        , -0.2309441 , -0.57735205],\n",
       "       [ 0.        ,  0.11547205, -0.57735205]])"
      ]
     },
     "execution_count": 26,
     "metadata": {},
     "output_type": "execute_result"
    }
   ],
   "source": [
    "# poredjenje te dve matrice\n",
    "# ponovo se poklapaju na prvih 5 decimala, mala je greska, pa moze da se kaze da odredjuju isto preslikavanje\n",
    "(M5 / M5[0][0])  * M4[0][0]"
   ]
  },
  {
   "cell_type": "code",
   "execution_count": 27,
   "id": "7504366a",
   "metadata": {},
   "outputs": [],
   "source": [
    "# transliramo sve koordinate za vektor (2, 3)\n",
    "translacija = [[1, 0, 2], [0, 1, 3], [0, 0, 1]]\n",
    "\n",
    "originali_t = primeni(originali, translacija)\n",
    "slike_t = primeni(slike, translacija)"
   ]
  },
  {
   "cell_type": "code",
   "execution_count": 28,
   "id": "2982445e",
   "metadata": {},
   "outputs": [
    {
     "name": "stdout",
     "output_type": "stream",
     "text": [
      "[[ 0.56259 -0.56259  1.96908]\n",
      " [ 0.      -0.14065  3.23492]\n",
      " [ 0.      -0.14065  1.12519]]\n"
     ]
    }
   ],
   "source": [
    "# matrica dobijena normalizovanim dlt na transiranim tackama\n",
    "M6 = normalizovani_dlt(6, originali_t, slike_t)\n",
    "M6 = np.round(M6, decimals = 5)\n",
    "print(M6)"
   ]
  },
  {
   "cell_type": "code",
   "execution_count": 29,
   "id": "559d5b52",
   "metadata": {},
   "outputs": [
    {
     "name": "stdout",
     "output_type": "stream",
     "text": [
      "[[ 5.6259e-01 -2.8129e-01  1.0000e-05]\n",
      " [ 0.0000e+00  2.8130e-01  7.0325e-01]\n",
      " [ 0.0000e+00 -1.4065e-01  7.0324e-01]]\n",
      "[[ 0.56259 -0.2813   0.     ]\n",
      " [-0.       0.2813   0.70324]\n",
      " [-0.      -0.14065  0.70324]]\n"
     ]
    }
   ],
   "source": [
    "# vracanje na stari koordinatni sistem\n",
    "# primetimo da se dobije ista matrica kao za pocetne tacke\n",
    "#  to je i ocekivano jer je normalizovani dlt invarijantan u odnosu na promenu koordinata\n",
    "M7 = np.matmul(la.inv(translacija), M6)\n",
    "M7 = np.matmul(M7, translacija)\n",
    "M7 = np.round(M7, decimals = 5)\n",
    "print(M7)\n",
    "print(M5)"
   ]
  },
  {
   "cell_type": "code",
   "execution_count": null,
   "id": "4088035c",
   "metadata": {},
   "outputs": [],
   "source": []
  }
 ],
 "metadata": {
  "kernelspec": {
   "display_name": "Python 3",
   "language": "python",
   "name": "python3"
  },
  "language_info": {
   "codemirror_mode": {
    "name": "ipython",
    "version": 3
   },
   "file_extension": ".py",
   "mimetype": "text/x-python",
   "name": "python",
   "nbconvert_exporter": "python",
   "pygments_lexer": "ipython3",
   "version": "3.6.9"
  }
 },
 "nbformat": 4,
 "nbformat_minor": 5
}
