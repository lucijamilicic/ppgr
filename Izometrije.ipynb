{
 "cells": [
  {
   "cell_type": "code",
   "execution_count": 1,
   "id": "1c715f42",
   "metadata": {},
   "outputs": [],
   "source": [
    "import numpy as np\n",
    "import math\n",
    "from numpy import linalg as la"
   ]
  },
  {
   "cell_type": "markdown",
   "id": "c72cff6c",
   "metadata": {},
   "source": [
    "**Euler2A**"
   ]
  },
  {
   "cell_type": "code",
   "execution_count": 2,
   "id": "28a3549d",
   "metadata": {},
   "outputs": [],
   "source": [
    "def euler_2_a(fi, teta, psi):\n",
    "    \n",
    "    Rx_fi = np.array([[1, 0, 0],\n",
    "                    [0, math.cos(fi), -math.sin(fi)],\n",
    "                    [0, math.sin(fi), math.cos(fi)]])\n",
    "    \n",
    "    Ry_teta = np.array([[math.cos(teta), 0, math.sin(teta)],\n",
    "                      [0, 1, 0],\n",
    "                      [-math.sin(teta), 0, math.cos(teta)]])\n",
    "    \n",
    "    Rz_psi = np.array([[math.cos(psi), -math.sin(psi), 0],\n",
    "                     [math.sin(psi), math.cos(psi), 0],\n",
    "                     [0, 0, 1]])\n",
    "    \n",
    "    A = np.matmul(Ry_teta, Rx_fi)\n",
    "    A = np.matmul(Rz_psi, A)\n",
    "    A = np.round(A, 6)\n",
    "    \n",
    "    return A"
   ]
  },
  {
   "cell_type": "code",
   "execution_count": 3,
   "id": "fb09f6ac",
   "metadata": {},
   "outputs": [
    {
     "name": "stdout",
     "output_type": "stream",
     "text": [
      "[[ 0.111111 -0.888889 -0.444444]\n",
      " [ 0.444444  0.444444 -0.777778]\n",
      " [ 0.888889 -0.111111  0.444444]]\n"
     ]
    }
   ],
   "source": [
    "uglovi = [-math.atan(1/4), -math.asin(8/9), math.atan(4)]\n",
    "A = euler_2_a(uglovi[0], uglovi[1], uglovi[2])\n",
    "A = np.round(A, 6)\n",
    "print(A)"
   ]
  },
  {
   "cell_type": "markdown",
   "id": "1a612a68",
   "metadata": {},
   "source": [
    "**AxisAngle**"
   ]
  },
  {
   "cell_type": "code",
   "execution_count": 4,
   "id": "4dc14cc8",
   "metadata": {},
   "outputs": [],
   "source": [
    "def axis_angle(A):\n",
    "    \n",
    "    if round(la.det(A), 4) != 1:\n",
    "        print(\"Determinanta matrice A mora biti 1\")\n",
    "        print(round(la.det(A), 5))\n",
    "        return\n",
    "\n",
    "    if np.any(np.round(A.dot(A.T), 5) != np.eye(3)):\n",
    "        print(\"Matrica A mora biti ortogonalna\")\n",
    "        return\n",
    "    \n",
    "# odredjivanje sopstvenog vektora\n",
    "    lambdas, vector = la.eig(A)\n",
    "    for i in range(len(lambdas)):\n",
    "        if np.round(lambdas[i], 6) == 1.0:\n",
    "            p = np.real(vector[:, i])\n",
    "\n",
    "    p1, p2, p3 = p[0], p[1], p[2]\n",
    "    \n",
    "    if p1 == 0 and p2 == 0 and p3 == 0:\n",
    "        print(\"Ne sme biti nula vektor\")\n",
    "        return\n",
    "        \n",
    "# u je izabran prozvoljni jedinicni vektor koji je normalan na p \n",
    "    u = np.cross(p, np.array([1, 1, 1]))\n",
    "    u = u/math.sqrt(u[0]**2+u[1]**2+u[2]**2)\n",
    "\n",
    "    up = A.dot(u)\n",
    "\n",
    "    fi = np.round(math.acos(np.dot(u, up)), 6)\n",
    "    if np.round(np.dot(np.cross(u, up), p), 6) < 0:\n",
    "        p = (-1)*p\n",
    "\n",
    "    \n",
    "    return [p, fi]"
   ]
  },
  {
   "cell_type": "code",
   "execution_count": 5,
   "id": "51fc4ca1",
   "metadata": {},
   "outputs": [
    {
     "name": "stdout",
     "output_type": "stream",
     "text": [
      "[ 0.33333363 -0.66666654  0.66666665] 1.570797\n",
      "[array([ 0.33333363, -0.66666654,  0.66666665]), '0.5*PI']\n"
     ]
    }
   ],
   "source": [
    "[p, fi] = axis_angle(A)\n",
    "print(p, fi)\n",
    "print([p, f'{np.round(fi/math.pi, 5)}*PI'])"
   ]
  },
  {
   "cell_type": "markdown",
   "id": "3c7320a6",
   "metadata": {},
   "source": [
    "**Rodrigezova formula**"
   ]
  },
  {
   "cell_type": "code",
   "execution_count": 6,
   "id": "cc5fcd2b",
   "metadata": {},
   "outputs": [],
   "source": [
    "def rodrigez(p, fi):\n",
    "\n",
    "    norma = la.norm(p)\n",
    "    p /= norma\n",
    "\n",
    "    Px = np.array([[0, -p[2], p[1]],\n",
    "                   [p[2], 0, -p[0]],\n",
    "                   [-p[1], p[0], 0]])\n",
    "\n",
    "    E = np.eye(3)\n",
    "    p = np.reshape(p, (3, 1))\n",
    "    Rp = p.dot(p.T) + math.cos(fi)*(E - p.dot(p.T)) + math.sin(fi)*Px\n",
    "    Rp = np.round(Rp, 6)\n",
    "\n",
    "    return Rp"
   ]
  },
  {
   "cell_type": "code",
   "execution_count": 7,
   "id": "4af52557",
   "metadata": {},
   "outputs": [
    {
     "name": "stdout",
     "output_type": "stream",
     "text": [
      "[[ 0.111111 -0.888889 -0.444444]\n",
      " [ 0.444444  0.444444 -0.777778]\n",
      " [ 0.888889 -0.111111  0.444444]]\n",
      "\n",
      "[[ 0.111111 -0.888889 -0.444444]\n",
      " [ 0.444444  0.444444 -0.777778]\n",
      " [ 0.888889 -0.111111  0.444444]]\n"
     ]
    }
   ],
   "source": [
    "R = rodrigez(p, fi)\n",
    "print(R)\n",
    "print()\n",
    "print(A)"
   ]
  },
  {
   "cell_type": "markdown",
   "id": "ab39e704",
   "metadata": {},
   "source": [
    "**A2Euler**"
   ]
  },
  {
   "cell_type": "code",
   "execution_count": 8,
   "id": "07a58c4e",
   "metadata": {},
   "outputs": [],
   "source": [
    "def a_2_euler(A):\n",
    "    \n",
    "    if round(la.det(A)) != 1:\n",
    "        print(\"Determinanta matrice A mora biti 1\")\n",
    "        return\n",
    "\n",
    "    if np.any(np.round(A.dot(A.T), 5) != np.eye(3)):\n",
    "        print(\"Matrica A mora biti ortogonalna\")\n",
    "        return\n",
    "    \n",
    "    fi, teta, psi = 0, 0, 0\n",
    "    if A[2, 0] < 1:\n",
    "        if A[2, 0] > -1:\n",
    "            psi = math.atan2(A[1, 0], A[0, 0])\n",
    "            teta = math.asin(-A[2, 0])\n",
    "            fi = math.atan2(A[2, 1], A[2, 2])\n",
    "        else:\n",
    "            psi = math.atan2((-1)*A[0, 1], A[1, 1])\n",
    "            teta = math.pi/2.0\n",
    "            fi = 0.0\n",
    "    else:\n",
    "        psi = math.atan2((-1)*A[0, 1], A[1, 1])\n",
    "        teta = - math.pi/2.0\n",
    "        fi = 0\n",
    "\n",
    "    return([fi, teta, psi])"
   ]
  },
  {
   "cell_type": "code",
   "execution_count": 9,
   "id": "ca4c2a38",
   "metadata": {},
   "outputs": [
    {
     "name": "stdout",
     "output_type": "stream",
     "text": [
      "[-0.24497866312686414, -1.0949143196701623, 1.3258176636680326]\n",
      "[-0.24497866312686414, -1.09491407713448, 1.3258176636680326]\n"
     ]
    }
   ],
   "source": [
    "print(a_2_euler(A))\n",
    "print(uglovi)"
   ]
  },
  {
   "cell_type": "markdown",
   "id": "ead88b06",
   "metadata": {},
   "source": [
    "**AxisAngle2Q**"
   ]
  },
  {
   "cell_type": "code",
   "execution_count": 10,
   "id": "50c7c039",
   "metadata": {},
   "outputs": [],
   "source": [
    "def axis_angle_2_q(p, fi):\n",
    "    \n",
    "    norma = la.norm(p)\n",
    "    \n",
    "    if(norma == 0):\n",
    "        print('Ne sme biti nula vektor')\n",
    "        return\n",
    "        \n",
    "    p /= norma\n",
    "        \n",
    "    [x, y, z] = math.sin(fi/2.0) * p\n",
    "    w = round(math.cos(fi/2.0), 6)\n",
    "\n",
    "    return [x, y, z, w]"
   ]
  },
  {
   "cell_type": "code",
   "execution_count": 11,
   "id": "0fb881fd",
   "metadata": {},
   "outputs": [
    {
     "name": "stdout",
     "output_type": "stream",
     "text": [
      "[0.23570254924666617, -0.47140458780496247, 0.47140466637233047, 0.707107]\n"
     ]
    }
   ],
   "source": [
    "q = axis_angle_2_q(p, fi)\n",
    "print(q)"
   ]
  },
  {
   "cell_type": "markdown",
   "id": "1c716f0b",
   "metadata": {},
   "source": [
    "**Q2AxisAngle**"
   ]
  },
  {
   "cell_type": "code",
   "execution_count": 12,
   "id": "7a7fb978",
   "metadata": {},
   "outputs": [],
   "source": [
    "def q_2_axis_angle(q):\n",
    "    \n",
    "    if q[0] == 0 and q[1] == 0 and q[2] == 0:\n",
    "        print(\"Imaginarni deo ne sme biti 0\")\n",
    "        return\n",
    "    \n",
    "    norma = la.norm(q)\n",
    "    q /= norma\n",
    "\n",
    "    fi = 2*math.acos(q[3])\n",
    "    fi = round(fi, 6)\n",
    "    \n",
    "    if abs(q[3]) == 1:\n",
    "        p = [1, 0, 0]\n",
    "    else:\n",
    "        norma = la.norm(np.array([q[0], q[1], q[2]]))\n",
    "        p = np.array([q[0], q[1], q[2]])\n",
    "        if norma != 0:\n",
    "            p = p / norma\n",
    "\n",
    "    return [p, fi]"
   ]
  },
  {
   "cell_type": "code",
   "execution_count": 13,
   "id": "a33d4e6c",
   "metadata": {},
   "outputs": [
    {
     "name": "stdout",
     "output_type": "stream",
     "text": [
      "[array([ 0.33333363, -0.66666654,  0.66666665]), 1.570796]\n",
      "[array([ 0.33333363, -0.66666654,  0.66666665]), 1.570797]\n"
     ]
    }
   ],
   "source": [
    "print(q_2_axis_angle(q))\n",
    "print([p, fi])"
   ]
  },
  {
   "cell_type": "markdown",
   "id": "8e34c4a2",
   "metadata": {},
   "source": [
    "**Testiranje**"
   ]
  },
  {
   "cell_type": "code",
   "execution_count": 14,
   "id": "c92e18b3",
   "metadata": {},
   "outputs": [
    {
     "name": "stdout",
     "output_type": "stream",
     "text": [
      "[-0.5235987755982989, -0.7853981633974482, 1.0471975511965976]\n"
     ]
    }
   ],
   "source": [
    "# zadati pocetni ojlerovi uglovi\n",
    "fi = -math.atan(1/math.sqrt(3))\n",
    "teta = -math.asin(1/math.sqrt(2))\n",
    "psi = math.atan(math.sqrt(3))\n",
    "\n",
    "print([fi, teta, psi])"
   ]
  },
  {
   "cell_type": "code",
   "execution_count": 15,
   "id": "de9d8d66",
   "metadata": {},
   "outputs": [
    {
     "name": "stdout",
     "output_type": "stream",
     "text": [
      "[[ 0.353553 -0.573223 -0.739199]\n",
      " [ 0.612372  0.739199 -0.28033 ]\n",
      " [ 0.707107 -0.353553  0.612372]]\n"
     ]
    }
   ],
   "source": [
    "# racunanje matrice preko ojlerovih uglova\n",
    "A = euler_2_a(fi, teta, psi)\n",
    "print(A)"
   ]
  },
  {
   "cell_type": "code",
   "execution_count": 16,
   "id": "991dc5ab",
   "metadata": {},
   "outputs": [
    {
     "name": "stdout",
     "output_type": "stream",
     "text": [
      "[array([-0.03912368, -0.77277425,  0.63347399]), 1.210489]\n"
     ]
    }
   ],
   "source": [
    "# racunanje ose rotacije i ugla preko matrice\n",
    "[p, alfa] = axis_angle(A)\n",
    "print([p, alfa])"
   ]
  },
  {
   "cell_type": "code",
   "execution_count": 17,
   "id": "4c3a18f2",
   "metadata": {},
   "outputs": [
    {
     "name": "stdout",
     "output_type": "stream",
     "text": [
      "[[ 0.353553 -0.573223 -0.739199]\n",
      " [ 0.612372  0.739199 -0.28033 ]\n",
      " [ 0.707107 -0.353553  0.612372]]\n",
      "\n",
      "[[ 0.353553 -0.573223 -0.739199]\n",
      " [ 0.612372  0.739199 -0.28033 ]\n",
      " [ 0.707107 -0.353553  0.612372]]\n"
     ]
    }
   ],
   "source": [
    "# racunjanje matrice preko ose i ugla rotacije\n",
    "# primetimo da se dobije ista matrica kao kada se racuna preko ojlerovih uglova\n",
    "print(rodrigez(p, alfa))\n",
    "print()\n",
    "print(A)"
   ]
  },
  {
   "cell_type": "code",
   "execution_count": 18,
   "id": "61d6a889",
   "metadata": {},
   "outputs": [
    {
     "name": "stdout",
     "output_type": "stream",
     "text": [
      "[-0.523598605304503, -0.7853984728464484, 1.0471977214903936]\n",
      "[-0.5235987755982989, -0.7853981633974482, 1.0471975511965976]\n"
     ]
    }
   ],
   "source": [
    "# racunjanje ojlerovih uglova preko matrice\n",
    "# primetimo da se dobiju pocetni uglovi\n",
    "print(a_2_euler(A))\n",
    "print([fi, teta, psi])"
   ]
  },
  {
   "cell_type": "code",
   "execution_count": 19,
   "id": "9bfa6c7e",
   "metadata": {},
   "outputs": [
    {
     "name": "stdout",
     "output_type": "stream",
     "text": [
      "[-0.022259933156387655, -0.4396800778565036, 0.3604233664860778, 0.822363]\n"
     ]
    }
   ],
   "source": [
    "# racunanje kvaterniona preko ose i ugla rotacije\n",
    "q = axis_angle_2_q(p, alfa)\n",
    "print(q)"
   ]
  },
  {
   "cell_type": "code",
   "execution_count": 20,
   "id": "e3f59f69",
   "metadata": {},
   "outputs": [
    {
     "name": "stdout",
     "output_type": "stream",
     "text": [
      "[array([-0.03912368, -0.77277425,  0.63347399]), 1.210489]\n",
      "[array([-0.03912368, -0.77277425,  0.63347399]), 1.210489]\n"
     ]
    }
   ],
   "source": [
    "# racunjanje ose i ugla rotacije preko kvaterniona\n",
    "# primetimo da se dobije isti rezultat kao kada se racuna preko matrice\n",
    "print(q_2_axis_angle(q))\n",
    "print([p, alfa])"
   ]
  },
  {
   "cell_type": "code",
   "execution_count": null,
   "id": "975b65ae",
   "metadata": {},
   "outputs": [],
   "source": []
  },
  {
   "cell_type": "code",
   "execution_count": null,
   "id": "20821cd6",
   "metadata": {},
   "outputs": [],
   "source": []
  }
 ],
 "metadata": {
  "kernelspec": {
   "display_name": "Python 3",
   "language": "python",
   "name": "python3"
  },
  "language_info": {
   "codemirror_mode": {
    "name": "ipython",
    "version": 3
   },
   "file_extension": ".py",
   "mimetype": "text/x-python",
   "name": "python",
   "nbconvert_exporter": "python",
   "pygments_lexer": "ipython3",
   "version": "3.6.9"
  }
 },
 "nbformat": 4,
 "nbformat_minor": 5
}
